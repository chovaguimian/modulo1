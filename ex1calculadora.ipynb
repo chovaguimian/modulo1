{
  "nbformat": 4,
  "nbformat_minor": 0,
  "metadata": {
    "colab": {
      "provenance": [],
      "authorship_tag": "ABX9TyNrsoo1EvpChWW3AM22t+fW",
      "include_colab_link": true
    },
    "kernelspec": {
      "name": "python3",
      "display_name": "Python 3"
    },
    "language_info": {
      "name": "python"
    }
  },
  "cells": [
    {
      "cell_type": "markdown",
      "metadata": {
        "id": "view-in-github",
        "colab_type": "text"
      },
      "source": [
        "<a href=\"https://colab.research.google.com/github/chovaguimian/modulo1/blob/main/ex1calculadora.ipynb\" target=\"_parent\"><img src=\"https://colab.research.google.com/assets/colab-badge.svg\" alt=\"Open In Colab\"/></a>"
      ]
    },
    {
      "cell_type": "code",
      "execution_count": 1,
      "metadata": {
        "id": "-92M3MjtM_fF",
        "colab": {
          "base_uri": "https://localhost:8080/"
        },
        "outputId": "c691f792-b47f-4de5-8b56-7f3b9cb7df1d"
      },
      "outputs": [
        {
          "output_type": "stream",
          "name": "stdout",
          "text": [
            "Olá!\n",
            "Vamos começar?\n",
            "Digite o primeiro número: 2\n",
            "Digite o segundo número: 3\n",
            "\n",
            "Escolha a operação:\n",
            "1. Soma (+)\n",
            "2. Subtração (-)\n",
            "3. Multiplicação (*)\n",
            "4. Divisão (/)\n",
            "5. Sair\n",
            "Digite a opção (1/2/3/4/5): 2\n",
            "Resultado da subtração: -1.0\n",
            "\n",
            "Deseja fazer outro cálculo? (s/n): n\n",
            "Encerrando o programa. Até logo!\n"
          ]
        }
      ],
      "source": [
        "while True:\n",
        "    # Recebendo os números do usuário e convertendo para float\n",
        "    print (\"Olá!\\nVamos começar?\")\n",
        "\n",
        "\n",
        "    num1 = float(input(\"Digite o primeiro número: \"))\n",
        "    num2 = float(input(\"Digite o segundo número: \"))\n",
        "\n",
        "    # Menu de operações\n",
        "    print(\"\\nEscolha a operação:\")\n",
        "    print(\"1. Soma (+)\")\n",
        "    print(\"2. Subtração (-)\")\n",
        "    print(\"3. Multiplicação (*)\")\n",
        "    print(\"4. Divisão (/)\")\n",
        "    print(\"5. Sair\")\n",
        "    opcao = input(\"Digite a opção (1/2/3/4/5): \")\n",
        "\n",
        "    if opcao == '1':\n",
        "        resultado = num1 + num2\n",
        "        print(f\"Resultado da soma: {resultado}\")\n",
        "    elif opcao == '2':\n",
        "        resultado = num1 - num2\n",
        "        print(f\"Resultado da subtração: {resultado}\")\n",
        "    elif opcao == '3':\n",
        "        resultado = num1 * num2\n",
        "        print(f\"Resultado da multiplicação: {resultado}\")\n",
        "    elif opcao == '4':\n",
        "        if num2 != 0:\n",
        "            resultado = num1 / num2\n",
        "            print(f\"Resultado da divisão: {resultado}\")\n",
        "        else:\n",
        "            print(\"Erro: divisão por zero não é permitida.\")\n",
        "    elif opcao == '5':\n",
        "        print(\"Programa finalizado. Até logo!\")\n",
        "        break\n",
        "    else:\n",
        "        print(\"Opção inválida, tente novamente.\")\n",
        "\n",
        "    # Pergunta se o usuário quer realizar uma nova operação\n",
        "    continuar = input(\"\\nDeseja fazer outro cálculo? (s/n): \").lower()\n",
        "    if continuar != 's':\n",
        "        print(\"Encerrando o programa. Até logo!\")\n",
        "        break"
      ]
    },
    {
      "cell_type": "markdown",
      "source": [
        "\n",
        "\n",
        "---\n",
        "\n"
      ],
      "metadata": {
        "id": "B43wqadT-WtE"
      }
    },
    {
      "cell_type": "code",
      "source": [],
      "metadata": {
        "id": "R-aG8cPI-bAA"
      },
      "execution_count": null,
      "outputs": []
    }
  ]
}